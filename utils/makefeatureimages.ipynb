{
 "cells": [
  {
   "cell_type": "code",
   "execution_count": 1,
   "metadata": {
    "collapsed": true
   },
   "outputs": [],
   "source": [
    "import matplotlib\n",
    "matplotlib.use('Agg')\n",
    "\n",
    "import numpy as np\n",
    "\n",
    "import skimage\n",
    "import skimage.io\n",
    "import skimage.transform\n",
    "import skimage.exposure \n",
    "\n",
    "from quilt.data.jared import landuse_austin_tx\n",
    "\n",
    "%matplotlib inline"
   ]
  },
  {
   "cell_type": "code",
   "execution_count": 2,
   "metadata": {
    "collapsed": true
   },
   "outputs": [],
   "source": [
    "def findimg(attop,root,layer) :\n",
    "    atdir = getattr(attop,root)\n",
    "    atimg = getattr(atdir,root+layer)\n",
    "    return atimg"
   ]
  },
  {
   "cell_type": "code",
   "execution_count": 3,
   "metadata": {
    "collapsed": true
   },
   "outputs": [],
   "source": [
    "def prepimage(attop,root): # prepare the image stack\n",
    "    \n",
    "    tmpimg = findimg(attop,root,'_B4')\n",
    "    r=skimage.io.imread(tmpimg(), as_grey=True) # load red\n",
    "    tmpimg = findimg(attop,root,'_B3')\n",
    "    g=skimage.io.imread(tmpimg(), as_grey=True) # load green\n",
    "    tmpimg = findimg(attop,root,'_B2')\n",
    "    b=skimage.io.imread(tmpimg(), as_grey=True) # load blue\n",
    "    tmpimg = findimg(attop,root,'_B5')\n",
    "    ir=skimage.io.imread(tmpimg(), as_grey=True)# load band 5 - near infrared\n",
    "    \n",
    "    ndvi = np.true_divide((ir - r), (ir + r)) # ndvi \n",
    "    rgb= np.dstack((r,g,b))                   # combine into ordered stack\n",
    "\n",
    "    tmpimg = findimg(attop,root,'_B8') # load hi-res image\n",
    "    pan=skimage.io.imread(tmpimg(), as_grey=True)/65535 # load chromatic, normalize to between 0 and 1\n",
    "\n",
    "    rgb_big=skimage.transform.resize(rgb, output_shape=(pan.shape[0],pan.shape[1],3), order=3, mode='constant', cval=0.0) # resize the rgb composite to match the chromatic\n",
    "    ndvi_big=skimage.transform.resize(ndvi, output_shape=(pan.shape[0],pan.shape[1]), order=3, mode='constant', cval=0.0) # resize ndvi to match the rgb\n",
    "\n",
    "    hsv = skimage.color.rgb2hsv(rgb_big) #Convert the rgb to the HSV colorspace\n",
    "    hsv[...,2]=pan                       #Pan Sharpen\n",
    "    rgb_pan = skimage.color.hsv2rgb(hsv) #Convert back to rgb space\n",
    "    \n",
    "    return rgb_pan, ndvi_big "
   ]
  },
  {
   "cell_type": "code",
   "execution_count": 4,
   "metadata": {
    "collapsed": true
   },
   "outputs": [],
   "source": [
    "attop = landuse_austin_tx.images.cropped               # use precropped images \n",
    "rgb, ndvi = prepimage(attop,'LC80270392014022LGN00')   # test image"
   ]
  },
  {
   "cell_type": "code",
   "execution_count": 5,
   "metadata": {
    "collapsed": true
   },
   "outputs": [],
   "source": [
    "from scipy import ndimage as ndi\n",
    "rgb_dog = rgb - ndi.gaussian_filter(rgb, 15) # difference of gaussians 'edge finder'"
   ]
  },
  {
   "cell_type": "code",
   "execution_count": 6,
   "metadata": {
    "collapsed": true
   },
   "outputs": [],
   "source": [
    "rgb_light  = skimage.exposure.rescale_intensity(rgb,in_range=(0,0.5))  #lighten image for viewer\n",
    "ndvi_light = skimage.exposure.rescale_intensity(ndvi,in_range=(0,0.5)) #lighten image for viewer\n",
    "\n",
    "from PIL import Image\n",
    "img = Image.fromarray(np.uint8(rgb_light*255.99))\n",
    "img.save('../output/LC80270392014022LGN00_rgb.tif')\n",
    "\n",
    "img = Image.fromarray(np.uint8(ndvi_light*255.99))\n",
    "img.save('../output/LC80270392014022LGN00_ndvi.tif')\n",
    "\n",
    "img = Image.fromarray(np.uint8(rgb_dog*255.99))\n",
    "img.save('../output/LC80270392014022LGN00_dog.tif')"
   ]
  },
  {
   "cell_type": "code",
   "execution_count": null,
   "metadata": {
    "collapsed": true
   },
   "outputs": [],
   "source": []
  }
 ],
 "metadata": {
  "kernelspec": {
   "display_name": "Python 3",
   "language": "python",
   "name": "python3"
  },
  "language_info": {
   "codemirror_mode": {
    "name": "ipython",
    "version": 3
   },
   "file_extension": ".py",
   "mimetype": "text/x-python",
   "name": "python",
   "nbconvert_exporter": "python",
   "pygments_lexer": "ipython3",
   "version": "3.5.3"
  }
 },
 "nbformat": 4,
 "nbformat_minor": 2
}
