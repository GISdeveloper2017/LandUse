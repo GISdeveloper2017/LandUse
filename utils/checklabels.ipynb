{
 "cells": [
  {
   "cell_type": "code",
   "execution_count": null,
   "metadata": {
    "collapsed": true
   },
   "outputs": [],
   "source": [
    "import matplotlib\n",
    "matplotlib.use('Agg')\n",
    "\n",
    "import numpy as np\n",
    "import cv2\n",
    "cv2.useOptimized()\n",
    "\n",
    "from quilt.data.jared import landuse_austin_tx"
   ]
  },
  {
   "cell_type": "code",
   "execution_count": null,
   "metadata": {
    "collapsed": true
   },
   "outputs": [],
   "source": [
    "def findimg(attop,root,layer) :\n",
    "    atdir = getattr(attop,root)\n",
    "    atimg = getattr(atdir,root+layer)\n",
    "    return atimg"
   ]
  },
  {
   "cell_type": "code",
   "execution_count": null,
   "metadata": {
    "collapsed": true
   },
   "outputs": [],
   "source": [
    "attop = landuse_austin_tx.images.cropped # use precropped images \n",
    "root = 'LC80270392014022LGN00'\n",
    "qtimg = findimg(attop,root,'_B8')\n",
    "image = cv2.imread(qtimg(),0) # get hi-res image\n",
    "\n",
    "attop = landuse_austin_tx.labels.austin_rasters_cropped\n",
    "qtlabel = getattr(attop,'austin_tx_buildings_labels_allt') # get 'all touched' lables\n",
    "label = cv2.imread(qtlabel(),0) # get building labels\n",
    "\n",
    "output = image.copy()\n",
    "overlay = label.copy()"
   ]
  },
  {
   "cell_type": "code",
   "execution_count": null,
   "metadata": {},
   "outputs": [],
   "source": [
    "# apply the overlay\n",
    "alpha=0.05\n",
    "cv2.addWeighted(overlay, alpha, output, 1 - alpha,0, output)"
   ]
  },
  {
   "cell_type": "code",
   "execution_count": null,
   "metadata": {
    "collapsed": true
   },
   "outputs": [],
   "source": [
    "small = cv2.resize(output, (0,0), fx=0.75, fy=0.75) \n",
    "equ = cv2.equalizeHist(small)"
   ]
  },
  {
   "cell_type": "code",
   "execution_count": null,
   "metadata": {},
   "outputs": [],
   "source": [
    "print(\"alpha={}, beta={}\".format(alpha, 1 - alpha))\n",
    "cv2.imwrite('../output/lable_test.tif',equ)"
   ]
  }
 ],
 "metadata": {
  "kernelspec": {
   "display_name": "Python 3",
   "language": "python",
   "name": "python3"
  },
  "language_info": {
   "codemirror_mode": {
    "name": "ipython",
    "version": 3
   },
   "file_extension": ".py",
   "mimetype": "text/x-python",
   "name": "python",
   "nbconvert_exporter": "python",
   "pygments_lexer": "ipython3",
   "version": "3.5.3"
  }
 },
 "nbformat": 4,
 "nbformat_minor": 2
}
