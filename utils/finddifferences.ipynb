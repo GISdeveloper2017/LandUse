{
 "cells": [
  {
   "cell_type": "code",
   "execution_count": null,
   "metadata": {
    "collapsed": true
   },
   "outputs": [],
   "source": [
    "import numpy as np\n",
    "\n",
    "import skimage\n",
    "import skimage.io\n",
    "import skimage.transform\n",
    "from skimage import exposure\n",
    "\n",
    "import matplotlib.pyplot as plt\n",
    "%matplotlib inline\n",
    "\n",
    "import pandas as pd\n",
    "from skimage.filters import gaussian"
   ]
  },
  {
   "cell_type": "code",
   "execution_count": null,
   "metadata": {},
   "outputs": [],
   "source": [
    "im1=skimage.io.imread('../output/xgboost_LC80270392014022LGN00.tif', as_grey=True) #2014\n",
    "im2=skimage.io.imread('../output/xgboost_LC80270392017030LGN00.tif', as_grey=True) #2017\n",
    "\n",
    "plt.figure()\n",
    "skimage.io.imshow(im1)\n",
    "plt.figure()\n",
    "skimage.io.imshow(im2)    \n",
    "plt.show()"
   ]
  },
  {
   "cell_type": "code",
   "execution_count": null,
   "metadata": {},
   "outputs": [],
   "source": [
    "g1 = gaussian(im1, 5)\n",
    "g2 = gaussian(im2, 5)\n",
    "\n",
    "plt.figure()\n",
    "skimage.io.imshow(g1)\n",
    "plt.figure()\n",
    "skimage.io.imshow(g2)    \n",
    "plt.show()"
   ]
  },
  {
   "cell_type": "code",
   "execution_count": null,
   "metadata": {},
   "outputs": [],
   "source": [
    "skimage.io.imsave('../output/g_4022.tif',g1)\n",
    "skimage.io.imsave('../output/g_7030.tif',g2)\n",
    "\n",
    "g1_rs = exposure.rescale_intensity(g1)\n",
    "g2_rs = exposure.rescale_intensity(g2)\n",
    "\n",
    "skimage.io.imsave('../output/g_4022_rs.tif',g1_rs)\n",
    "skimage.io.imsave('../output/g_7030_rs.tif',g2_rs)\n",
    "\n",
    "plt.figure()\n",
    "skimage.io.imshow(g1_rs)    \n",
    "plt.figure()\n",
    "skimage.io.imshow(g2_rs)    \n",
    "plt.show()"
   ]
  },
  {
   "cell_type": "code",
   "execution_count": null,
   "metadata": {},
   "outputs": [],
   "source": [
    "diff = g2-g1\n",
    "\n",
    "diff_rs = exposure.rescale_intensity(diff,out_range=(0,1))\n",
    "diff_rs = skimage.img_as_float(diff_rs)\n",
    "plt.figure()\n",
    "skimage.io.imshow(diff_rs)    \n",
    "plt.show()"
   ]
  },
  {
   "cell_type": "code",
   "execution_count": null,
   "metadata": {
    "collapsed": true
   },
   "outputs": [],
   "source": [
    "skimage.io.imsave('../output/diff_LC80270392017030LGN00_LC80270392014022LGN00.tif',diff_rs)"
   ]
  }
 ],
 "metadata": {
  "kernelspec": {
   "display_name": "Python 3",
   "language": "python",
   "name": "python3"
  },
  "language_info": {
   "codemirror_mode": {
    "name": "ipython",
    "version": 3
   },
   "file_extension": ".py",
   "mimetype": "text/x-python",
   "name": "python",
   "nbconvert_exporter": "python",
   "pygments_lexer": "ipython3",
   "version": "3.5.3"
  }
 },
 "nbformat": 4,
 "nbformat_minor": 2
}
