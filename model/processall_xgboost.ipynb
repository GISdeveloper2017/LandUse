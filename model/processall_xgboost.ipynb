{
 "cells": [
  {
   "cell_type": "code",
   "execution_count": null,
   "metadata": {},
   "outputs": [],
   "source": [
    "import pandas as pd\n",
    "import numpy as np\n",
    "\n",
    "import skimage\n",
    "import skimage.io\n",
    "import skimage.transform\n",
    "from skimage import exposure\n",
    "\n",
    "from xgboost import XGBClassifier\n",
    "\n",
    "from quilt.data.jared import landuse_austin_tx\n",
    "\n",
    "import matplotlib.pyplot as plt\n",
    "%matplotlib inline"
   ]
  },
  {
   "cell_type": "code",
   "execution_count": null,
   "metadata": {
    "collapsed": true
   },
   "outputs": [],
   "source": [
    "def findimg(attop,root,layer) :\n",
    "    atdir = getattr(attop,root)\n",
    "    atimg = getattr(atdir,root+layer)\n",
    "    return atimg"
   ]
  },
  {
   "cell_type": "code",
   "execution_count": null,
   "metadata": {
    "collapsed": true
   },
   "outputs": [],
   "source": [
    "def prepimage(attop,root): # prepare the image stack\n",
    "    \n",
    "    tmpimg = findimg(attop,root,'_B4')\n",
    "    r=skimage.io.imread(tmpimg(), as_grey=True) # load red\n",
    "    tmpimg = findimg(attop,root,'_B3')\n",
    "    g=skimage.io.imread(tmpimg(), as_grey=True) # load green\n",
    "    tmpimg = findimg(attop,root,'_B2')\n",
    "    b=skimage.io.imread(tmpimg(), as_grey=True) # load blue\n",
    "    tmpimg = findimg(attop,root,'_B5')\n",
    "    ir=skimage.io.imread(tmpimg(), as_grey=True)# load band 5 - near infrared\n",
    "    \n",
    "    ndvi = np.true_divide((ir - r), (ir + r)) # ndvi \n",
    "    rgb= np.dstack((r,g,b))                   # combine into ordered stack\n",
    "\n",
    "    tmpimg = findimg(attop,root,'_B8') # load hi-res image\n",
    "    pan=skimage.io.imread(tmpimg(), as_grey=True)/65535 # load chromatic, normalize to between 0 and 1\n",
    "\n",
    "    rgb_big=skimage.transform.resize(rgb, output_shape=(pan.shape[0],pan.shape[1],3), order=3, mode='constant', cval=0.0) # resize the rgb composite to match the chromatic\n",
    "    ndvi_big=skimage.transform.resize(ndvi, output_shape=(pan.shape[0],pan.shape[1]), order=3, mode='constant', cval=0.0) # resize ndvi to match the rgb\n",
    "\n",
    "    hsv = skimage.color.rgb2hsv(rgb_big) #Convert the rgb to the HSV colorspace\n",
    "    hsv[...,2]=pan                       #Pan Sharpen\n",
    "    rgb_pan = skimage.color.hsv2rgb(hsv) #Convert back to rgb space\n",
    "    \n",
    "    return rgb_pan, ndvi_big "
   ]
  },
  {
   "cell_type": "code",
   "execution_count": null,
   "metadata": {
    "collapsed": true
   },
   "outputs": [],
   "source": [
    "from scipy import ndimage as ndi\n",
    "from math import floor\n",
    "\n",
    "metadat = pd.read_json(landuse_austin_tx.metadata.austin_tx_meta())\n",
    "\n",
    "# load model from file\n",
    "import pickle\n",
    "model = pickle.load(open(\"../output/xboost350_train200_7x7wndvi.sav\", \"rb\"))"
   ]
  },
  {
   "cell_type": "code",
   "execution_count": null,
   "metadata": {},
   "outputs": [],
   "source": [
    "attop = landuse_austin_tx.images.cropped            # use precropped images \n",
    "for feature in metadat['features']:\n",
    "    root=feature['properties']['sceneID']\n",
    "\n",
    "    #prep images\n",
    "    rgb, ndvi=prepimage(attop,root) #File name of your imagery\n",
    "    rgb_dog = rgb - ndi.gaussian_filter(rgb, 15) #Difference of gaussians\n",
    "    rgb = skimage.img_as_uint(rgb)\n",
    "    rgb_dog = skimage.img_as_uint(rgb_dog)\n",
    "\n",
    "    #stack and organize\n",
    "    stack=np.dstack((rgb, rgb_dog, ndvi))\n",
    "    depth=stack.shape[2]\n",
    "    edge=7\n",
    "    buff=floor(edge/2)\n",
    "    stack_window=skimage.util.view_as_windows(np.pad(stack,pad_width=((buff,buff), (buff,buff),(0,0)), mode ='minimum'), window_shape=(edge,edge,depth), step=1) \n",
    "    print('stack_window.shape ')\n",
    "    print(stack_window.shape) #7 by 7 moving window around each pixel\n",
    "\n",
    "    # flatten stack\n",
    "    stack_flat=stack_window.reshape(-1,edge*edge*depth) \n",
    "    print('stack_flat.shape')\n",
    "    print(stack_flat.shape) #Flatten to rows\n",
    "\n",
    "    final = model.predict(stack_flat)\n",
    "\n",
    "    final_img = final.reshape(ndvi.shape)\n",
    "\n",
    "    plt.figure()\n",
    "    skimage.io.imshow(final_img)\n",
    "    plt.show()\n",
    "\n",
    "    img = np.array(final_img,dtype=np.int8)\n",
    "    skimage.io.imsave('../output/xgboost_'+root+'.tif',img)\n",
    "\n",
    "    img = exposure.rescale_intensity(img, out_range='int8')\n",
    "    skimage.io.imsave('../output/xgboost_'+root+'_rs.tif',img)\n"
   ]
  }
 ],
 "metadata": {
  "kernelspec": {
   "display_name": "Python 3",
   "language": "python",
   "name": "python3"
  },
  "language_info": {
   "codemirror_mode": {
    "name": "ipython",
    "version": 3
   },
   "file_extension": ".py",
   "mimetype": "text/x-python",
   "name": "python",
   "nbconvert_exporter": "python",
   "pygments_lexer": "ipython3",
   "version": "3.5.3"
  }
 },
 "nbformat": 4,
 "nbformat_minor": 2
}
