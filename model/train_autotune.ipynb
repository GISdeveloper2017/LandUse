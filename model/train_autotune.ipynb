{
 "cells": [
  {
   "cell_type": "code",
   "execution_count": null,
   "metadata": {
    "collapsed": true
   },
   "outputs": [],
   "source": [
    "import numpy as np\n",
    "\n",
    "import skimage\n",
    "import skimage.io\n",
    "import skimage.transform\n",
    "\n",
    "from tpot import TPOTClassifier\n",
    "from sklearn.datasets import load_digits\n",
    "from sklearn.model_selection import train_test_split\n",
    "\n",
    "from quilt.data.jared import landuse_austin_tx"
   ]
  },
  {
   "cell_type": "code",
   "execution_count": null,
   "metadata": {
    "collapsed": true
   },
   "outputs": [],
   "source": [
    "def findimg(attop,root,layer) :\n",
    "    atdir = getattr(attop,root)\n",
    "    atimg = getattr(atdir,root+layer)\n",
    "    return atimg"
   ]
  },
  {
   "cell_type": "code",
   "execution_count": null,
   "metadata": {
    "collapsed": true
   },
   "outputs": [],
   "source": [
    "def prepimage(attop,root): # prepare the image stack\n",
    "    \n",
    "    tmpimg = findimg(attop,root,'_B4')\n",
    "    r=skimage.io.imread(tmpimg(), as_grey=True) # load red\n",
    "    tmpimg = findimg(attop,root,'_B3')\n",
    "    g=skimage.io.imread(tmpimg(), as_grey=True) # load green\n",
    "    tmpimg = findimg(attop,root,'_B2')\n",
    "    b=skimage.io.imread(tmpimg(), as_grey=True) # load blue\n",
    "    tmpimg = findimg(attop,root,'_B5')\n",
    "    ir=skimage.io.imread(tmpimg(), as_grey=True)# load band 5 - near infrared\n",
    "    \n",
    "    ndvi = np.true_divide((ir - r), (ir + r)) # ndvi \n",
    "    rgb= np.dstack((r,g,b))                   # combine into ordered stack\n",
    "\n",
    "    tmpimg = findimg(attop,root,'_B8') # load hi-res image\n",
    "    pan=skimage.io.imread(tmpimg(), as_grey=True)/65535 # load chromatic, normalize to between 0 and 1\n",
    "\n",
    "    rgb_big=skimage.transform.resize(rgb, output_shape=(pan.shape[0],pan.shape[1],3), order=3, mode='constant', cval=0.0) # resize the rgb composite to match the chromatic\n",
    "    ndvi_big=skimage.transform.resize(ndvi, output_shape=(pan.shape[0],pan.shape[1]), order=3, mode='constant', cval=0.0) # resize ndvi to match the rgb\n",
    "\n",
    "    hsv = skimage.color.rgb2hsv(rgb_big) #Convert the rgb to the HSV colorspace\n",
    "    hsv[...,2]=pan                       #Pan Sharpen\n",
    "    rgb_pan = skimage.color.hsv2rgb(hsv) #Convert back to rgb space\n",
    "    \n",
    "    return rgb_pan, ndvi_big "
   ]
  },
  {
   "cell_type": "code",
   "execution_count": null,
   "metadata": {
    "collapsed": true
   },
   "outputs": [],
   "source": [
    "attop = landuse_austin_tx.images.cropped              # use precropped images \n",
    "rgb, ndvi = prepimage(attop,'LC80270392014022LGN00')  # test image"
   ]
  },
  {
   "cell_type": "code",
   "execution_count": null,
   "metadata": {
    "collapsed": true
   },
   "outputs": [],
   "source": [
    "from scipy import ndimage as ndi\n",
    "rgb_dog = rgb - ndi.gaussian_filter(rgb, 15) # difference of gaussians"
   ]
  },
  {
   "cell_type": "code",
   "execution_count": null,
   "metadata": {},
   "outputs": [],
   "source": [
    "from math import floor\n",
    "\n",
    "stack=np.dstack((rgb, rgb_dog, ndvi))\n",
    "\n",
    "depth=stack.shape[2]\n",
    "edge=5\n",
    "buff=floor(edge/2)\n",
    "stack_window=skimage.util.view_as_windows(np.pad(stack,pad_width=((buff,buff), (buff,buff),(0,0)), mode ='minimum'), window_shape=(edge,edge,depth), step=1) \n",
    "print('stack_window.shape ')\n",
    "print(stack_window.shape) #5 by 5 moving window around each pixel\n",
    "\n",
    "stack_flat=stack_window.reshape(-1,edge*edge*depth) \n",
    "print('stack_flat.shape')\n",
    "print(stack_flat.shape) # flatten to rows"
   ]
  },
  {
   "cell_type": "code",
   "execution_count": null,
   "metadata": {},
   "outputs": [],
   "source": [
    "#make labels\n",
    "attop = landuse_austin_tx.labels.austin_rasters_cropped\n",
    "qtlabel = getattr(attop,'austin_tx_buildings_labels_allt') # get 'all touched' lables\n",
    "building= skimage.io.imread(qtlabel(), as_grey=True)       # load buildings\n",
    "\n",
    "attop = landuse_austin_tx.labels.austin_rasters_cropped\n",
    "qtlabel = getattr(attop,'austin_tx_landuse_labels_noallt') # get 'no all touched' lables\n",
    "landuse = skimage.io.imread(qtlabel(), as_grey=True)       # load landuse\n",
    "\n",
    "building=skimage.img_as_uint(building)\n",
    "landuse=skimage.img_as_uint(landuse)"
   ]
  },
  {
   "cell_type": "code",
   "execution_count": null,
   "metadata": {},
   "outputs": [],
   "source": [
    "ll = landuse.flatten() \n",
    "lb = building.flatten() "
   ]
  },
  {
   "cell_type": "code",
   "execution_count": null,
   "metadata": {},
   "outputs": [],
   "source": [
    "nodata = 55537 #the zero value\n",
    "\n",
    "uselabinter = True # interpolate the trees \n",
    "\n",
    "ll[ll != nodata] = 1.\n",
    "lb[lb != nodata] = 2.\n",
    "ll[ll == nodata] = 0.\n",
    "\n",
    "if uselabinter == False :\n",
    "    labels = ll+lb\n",
    "    labels[labels==3] = 2. # prefer building when overlap\n",
    "\n",
    "if uselabinter == True :\n",
    "    lb[lb == nodata] = 1.\n",
    "    labels = lb\n",
    "\n",
    "print(labels[labels!=0].shape)\n",
    "\n",
    "skimage.io.imshow(labels.reshape(ndvi.shape))\n",
    "plt.show()"
   ]
  },
  {
   "cell_type": "code",
   "execution_count": null,
   "metadata": {
    "collapsed": true
   },
   "outputs": [],
   "source": [
    "x_tmp=stack_flat\n",
    "y_tmp=labels\n",
    "\n",
    "x_tmp = stack_flat[labels>0,...]\n",
    "y_tmp = labels[labels>0]\n",
    "\n",
    "y_tmp = y_tmp.astype(int)"
   ]
  },
  {
   "cell_type": "code",
   "execution_count": null,
   "metadata": {},
   "outputs": [],
   "source": [
    "from sklearn.model_selection import train_test_split\n",
    "x_train, x_test, y_train, y_test = train_test_split(x_tmp, y_tmp, test_size=2000, train_size=1000, random_state=42)\n"
   ]
  },
  {
   "cell_type": "code",
   "execution_count": null,
   "metadata": {},
   "outputs": [],
   "source": [
    "tpot = TPOTClassifier(generations=80, population_size=50, verbosity=2, n_jobs=15)\n",
    "tpot.fit(x_train, y_train)\n",
    "print(tpot.score(x_test, y_test))\n",
    "tpot.export('tpot_landuse_pipeline.py')"
   ]
  }
 ],
 "metadata": {
  "kernelspec": {
   "display_name": "Python 3",
   "language": "python",
   "name": "python3"
  },
  "language_info": {
   "codemirror_mode": {
    "name": "ipython",
    "version": 3
   },
   "file_extension": ".py",
   "mimetype": "text/x-python",
   "name": "python",
   "nbconvert_exporter": "python",
   "pygments_lexer": "ipython3",
   "version": "3.5.3"
  }
 },
 "nbformat": 4,
 "nbformat_minor": 2
}
