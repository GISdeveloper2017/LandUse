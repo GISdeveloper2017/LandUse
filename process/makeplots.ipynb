{
 "cells": [
  {
   "cell_type": "code",
   "execution_count": 1,
   "metadata": {
    "collapsed": true
   },
   "outputs": [],
   "source": [
    "import numpy as np\n",
    "#Pan Sharpening Demo\n",
    "import skimage\n",
    "import skimage.io\n",
    "import skimage.transform"
   ]
  },
  {
   "cell_type": "code",
   "execution_count": 2,
   "metadata": {
    "collapsed": true
   },
   "outputs": [],
   "source": [
    "#Channels, 2 blue, 3 green, 4 red\n",
    "def sharpen(root):\n",
    "    path=\"/Users/yamaoka/landsat/downloads/\"+root+\"/clipped/\"\n",
    "\n",
    "    r=skimage.io.imread(path+root+\"_B4.TIF\", as_grey=True) #Load Red\n",
    "    g=skimage.io.imread(path+root+\"_B3.TIF\", as_grey=True) #Load Green\n",
    "    b=skimage.io.imread(path+root+\"_B2.TIF\", as_grey=True) #Load Blue\n",
    "    rgb= np.dstack((r,g,b )) #Combine into correctly ordered stack\n",
    "\n",
    "    landsat_highres=path+root+\"_B8.TIF\"\n",
    "    pan=skimage.io.imread(landsat_highres, as_grey=True)/65535 #Load chromatic, normalize to between 0 and 1\n",
    "\n",
    "    rgb_big=skimage.transform.resize(rgb, output_shape=(pan.shape[0],pan.shape[1],3), order=3, mode='constant', cval=0.0) #Resize the rgb composite to match the chromatic\n",
    "    hsv = skimage.color.rgb2hsv(rgb_big) #Conver the rgb to the HSV colorspace\n",
    "    hsv[...,2]=pan #Poor man's pan sharpening, replace the intensity channel with the observed chromatic image\n",
    "    rgb_pan = skimage.color.hsv2rgb(hsv) #Convert back to rgb space\n",
    "    return rgb_pan"
   ]
  },
  {
   "cell_type": "code",
   "execution_count": 3,
   "metadata": {
    "collapsed": true
   },
   "outputs": [],
   "source": [
    "landsat1=sharpen(root=\"LC80270392017030LGN00\") #File name of your imagery"
   ]
  },
  {
   "cell_type": "code",
   "execution_count": 4,
   "metadata": {},
   "outputs": [
    {
     "name": "stderr",
     "output_type": "stream",
     "text": [
      "/Users/yamaoka/anaconda/envs/py35/lib/python3.5/site-packages/skimage/util/dtype.py:110: UserWarning: Possible precision loss when converting from float64 to uint8\n",
      "  \"%s to %s\" % (dtypeobj_in, dtypeobj))\n"
     ]
    }
   ],
   "source": [
    "skimage.io.imsave(\"big.png\", landsat1)\n"
   ]
  },
  {
   "cell_type": "code",
   "execution_count": 5,
   "metadata": {
    "collapsed": true
   },
   "outputs": [],
   "source": [
    "#make labels\n",
    "building_small= skimage.io.imread('/Users/yamaoka/landuse/labels/texas-latest-free.shp/austin_tx_building.tif', as_grey=True) #Load Buildings\n",
    "landuse_small = skimage.io.imread('/Users/yamaoka/landuse/labels/texas-latest-free.shp/austin_tx_landuse.tif', as_grey=True) #Load Landuse tmp\n",
    "\n",
    "flat_build = building_small.flatten()"
   ]
  },
  {
   "cell_type": "code",
   "execution_count": 7,
   "metadata": {},
   "outputs": [
    {
     "ename": "ValueError",
     "evalue": "NumPy boolean array indexing assignment cannot assign 3 input values to the 32195 output values where the mask is true",
     "output_type": "error",
     "traceback": [
      "\u001b[0;31m---------------------------------------------------------------------------\u001b[0m",
      "\u001b[0;31mValueError\u001b[0m                                Traceback (most recent call last)",
      "\u001b[0;32m<ipython-input-7-5abdac6c2143>\u001b[0m in \u001b[0;36m<module>\u001b[0;34m()\u001b[0m\n\u001b[0;32m----> 1\u001b[0;31m \u001b[0mflat_build\u001b[0m\u001b[0;34m[\u001b[0m\u001b[0mflat_build\u001b[0m\u001b[0;34m<\u001b[0m\u001b[0;36m0.99\u001b[0m\u001b[0;34m]\u001b[0m\u001b[0;34m=\u001b[0m\u001b[0;34m[\u001b[0m\u001b[0;36m0\u001b[0m\u001b[0;34m,\u001b[0m\u001b[0;36m109\u001b[0m\u001b[0;34m,\u001b[0m\u001b[0;36m0\u001b[0m\u001b[0;34m]\u001b[0m\u001b[0;34m\u001b[0m\u001b[0m\n\u001b[0m",
      "\u001b[0;31mValueError\u001b[0m: NumPy boolean array indexing assignment cannot assign 3 input values to the 32195 output values where the mask is true"
     ]
    }
   ],
   "source": [
    "for i in flat_build :\n",
    "    if i<0.99 and i>0.0 :\n",
    "        fla"
   ]
  },
  {
   "cell_type": "code",
   "execution_count": null,
   "metadata": {
    "collapsed": true
   },
   "outputs": [],
   "source": []
  }
 ],
 "metadata": {
  "kernelspec": {
   "display_name": "Python 3",
   "language": "python",
   "name": "python3"
  },
  "language_info": {
   "codemirror_mode": {
    "name": "ipython",
    "version": 3
   },
   "file_extension": ".py",
   "mimetype": "text/x-python",
   "name": "python",
   "nbconvert_exporter": "python",
   "pygments_lexer": "ipython3",
   "version": "3.5.3"
  }
 },
 "nbformat": 4,
 "nbformat_minor": 2
}
