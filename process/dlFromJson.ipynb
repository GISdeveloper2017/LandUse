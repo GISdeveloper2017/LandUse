{
 "cells": [
  {
   "cell_type": "code",
   "execution_count": 25,
   "metadata": {
    "collapsed": true
   },
   "outputs": [],
   "source": [
    "import pandas as pd\n",
    "import subprocess"
   ]
  },
  {
   "cell_type": "code",
   "execution_count": 26,
   "metadata": {},
   "outputs": [],
   "source": [
    "metadat = pd.read_json('austin_tx_meta.json')"
   ]
  },
  {
   "cell_type": "code",
   "execution_count": 32,
   "metadata": {},
   "outputs": [
    {
     "name": "stdout",
     "output_type": "stream",
     "text": [
      "LC80270392017046LGN00\n",
      "LC80270392017030LGN00\n",
      "LC80270392016284LGN00\n",
      "LC80270392016252LGN00\n",
      "LC80270392016204LGN00\n",
      "LC80270392016188LGN00\n",
      "LC80270392016124LGN00\n",
      "LC80270392016028LGN00\n",
      "LC80270392016012LGN00\n",
      "LC80270392015217LGN00\n",
      "LC80270392015201LGN00\n",
      "LC80270392015121LGN00\n",
      "LC80270392015105LGN00\n",
      "LC80270392015073LGN00\n",
      "LO80270392015041LGN00\n",
      "LC80270392015025LGN00\n",
      "LC80270392014358LGN00\n",
      "LC80270392014294LGN00\n",
      "LC80270392014182LGN00\n",
      "LC80270392014118LGN00\n",
      "LC80270392014022LGN00\n",
      "LC80270392013307LGN00\n",
      "LC80270392013243LGN00\n",
      "LC80270392013179LGN00\n"
     ]
    }
   ],
   "source": [
    "for feature in metadat['features']:\n",
    "    subprocess.check_output('landsat download '+feature['properties']['sceneID'],stderr=subprocess.STDOUT,shell=True)\n",
    "    print (feature['properties']['sceneID'])"
   ]
  },
  {
   "cell_type": "code",
   "execution_count": null,
   "metadata": {},
   "outputs": [],
   "source": []
  }
 ],
 "metadata": {
  "kernelspec": {
   "display_name": "Python 3",
   "language": "python",
   "name": "python3"
  },
  "language_info": {
   "codemirror_mode": {
    "name": "ipython",
    "version": 3
   },
   "file_extension": ".py",
   "mimetype": "text/x-python",
   "name": "python",
   "nbconvert_exporter": "python",
   "pygments_lexer": "ipython3",
   "version": "3.5.3"
  }
 },
 "nbformat": 4,
 "nbformat_minor": 2
}
