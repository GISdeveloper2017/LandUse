{
 "cells": [
  {
   "cell_type": "code",
   "execution_count": 12,
   "metadata": {
    "collapsed": true
   },
   "outputs": [],
   "source": [
    "from osgeo import gdal, ogr\n",
    "import geopandas as gpd\n"
   ]
  },
  {
   "cell_type": "code",
   "execution_count": 30,
   "metadata": {},
   "outputs": [
    {
     "data": {
      "text/plain": [
       "0"
      ]
     },
     "execution_count": 30,
     "metadata": {},
     "output_type": "execute_result"
    }
   ],
   "source": [
    "# Define pixel_size and NoData value of new raster\n",
    "pixel_size = 30\n",
    "NoData_value = -9999\n",
    "\n",
    "# Filename of input OGR file\n",
    "vector_fn = '/Users/yamaoka/landuse/labels/texas-latest-free.shp/gis.osm_buildings_a_free_1_austin.shp'\n",
    "\n",
    "# Filename of the raster Tiff that will be created\n",
    "raster_fn = '/Users/yamaoka/test_raster.tif'\n",
    "\n",
    "# Open the data source and read in the extent\n",
    "#tmp_ds = gpd.GeoDataFrame.from_file(vector_fn)\n",
    "#new_ds = tmp_ds.to_crs({'init':'epsg:32614'})\n",
    "#new_ds.to_file('tempepsg3214.shp')\n",
    "\n",
    "source_ds = ogr.Open('tempepsg3214.shp')\n",
    "source_layer = source_ds.GetLayer(0)\n",
    "x_min, x_max, y_min, y_max = source_layer.GetExtent()\n",
    "#print (x_min, x_max, y_min, y_max)\n",
    "# Create the destination data source\n",
    "x_res = int((x_max - x_min) / pixel_size)\n",
    "y_res = int((y_max - y_min) / pixel_size)\n",
    "\n",
    "driver = gdal.GetDriverByName('GTiff')\n",
    "target_ds = driver.Create(raster_fn, x_res, y_res, 1, gdal.GDT_Byte)\n",
    "target_ds.SetGeoTransform((x_min, pixel_size, 0, y_max, 0, -pixel_size))\n",
    "band = target_ds.GetRasterBand(1)\n",
    "band.SetNoDataValue(NoData_value)\n",
    "\n",
    "# Rasterize\n",
    "gdal.RasterizeLayer(target_ds, [1], source_layer, burn_values=[0])"
   ]
  },
  {
   "cell_type": "code",
   "execution_count": null,
   "metadata": {
    "collapsed": true
   },
   "outputs": [],
   "source": [
    "import rasterio\n",
    "\n",
    "with rasterio.open('rtest.tif', 'w', **meta) as out:\n",
    "    out_arr = out.read(1)\n",
    "\n",
    "    # this is where we create a generator of geom, value pairs to use in rasterizing\n",
    "    #shapes = ((geom,value) for geom, value in zip(counties.geometry, counties.LSAD_NUM))\n",
    "\n",
    "    burned = rasterio.features.rasterize(shapes=shapes, fill=0, out=out_arr, transform=out.transform)\n",
    "    out.write_band(1, burned)"
   ]
  }
 ],
 "metadata": {
  "kernelspec": {
   "display_name": "Python 3",
   "language": "python",
   "name": "python3"
  },
  "language_info": {
   "codemirror_mode": {
    "name": "ipython",
    "version": 3
   },
   "file_extension": ".py",
   "mimetype": "text/x-python",
   "name": "python",
   "nbconvert_exporter": "python",
   "pygments_lexer": "ipython3",
   "version": "3.5.3"
  }
 },
 "nbformat": 4,
 "nbformat_minor": 2
}
