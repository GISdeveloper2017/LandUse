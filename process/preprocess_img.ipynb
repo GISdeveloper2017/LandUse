{
 "cells": [
  {
   "cell_type": "code",
   "execution_count": 2,
   "metadata": {},
   "outputs": [],
   "source": [
    "import fiona\n",
    "import rasterio\n",
    "from rasterio.tools.mask import mask\n",
    "from rasterio.warp import reproject, RESAMPLING, transform, transform_bounds\n",
    "from utils import check_create_folder\n",
    "pathimg='/Users/yamaoka/landsat/downloads/'\n",
    "pathshp='/Users/yamaoka/landuse/shapefiles/'\n",
    "#bounds = [-97.938385,30.516863,-97.561485,30.098665]\n",
    "#shpfile = 'austin_tx.shp'"
   ]
  },
  {
   "cell_type": "code",
   "execution_count": 3,
   "metadata": {
    "collapsed": true
   },
   "outputs": [],
   "source": [
    "def toepsg32614(inputshpfile,outputshpfile):\n",
    "    tmp = gpd.GeoDataFrame.from_file(inputshpfile)\n",
    "    tmpepsg32614 = tmp.to_crs({'init':'epsg:32614'})\n",
    "    tmpepsg32614.to_file(outputshpfile)"
   ]
  },
  {
   "cell_type": "code",
   "execution_count": 4,
   "metadata": {},
   "outputs": [],
   "source": [
    "def cropbybb(infile,outfile,left,bottom,right,top):\n",
    "    with rasterio.open(infile) as src:\n",
    "\n",
    "        bounds = transform_bounds(\n",
    "                                {\n",
    "                                'proj': 'longlat',\n",
    "                                'ellps': 'WGS84',\n",
    "                                'datum': 'WGS84',\n",
    "                                'no_defs': True\n",
    "                                },\n",
    "                                src.crs,\n",
    "                                top=top,bottom=bottom,right=right,left=left\n",
    "                                )\n",
    "\n",
    "        window = src.window(*bounds)\n",
    "\n",
    "        out_kwargs = src.meta.copy()\n",
    "        out_kwargs.update({\n",
    "                        'driver': 'GTiff',\n",
    "                        'height': window[0][1] - window[0][0],\n",
    "                        'width': window[1][1] - window[1][0],\n",
    "                        'transform': src.window_transform(window)\n",
    "                        })\n",
    "        with rasterio.open(outfile, 'w', **out_kwargs) as out:\n",
    "            out.write(src.read(window=window))\n"
   ]
  },
  {
   "cell_type": "code",
   "execution_count": 5,
   "metadata": {},
   "outputs": [],
   "source": [
    "def cropbyshp(infile,outfile,shpfile) :    \n",
    "\n",
    "    with fiona.open(shpfile, \"r\") as shapefile:     \n",
    "     geoms = [feature[\"geometry\"] for feature in shapefile]\n",
    "\n",
    "    with rasterio.open(infile) as src:\n",
    "     out_image, out_transform = mask(src, geoms, crop=True)\n",
    "     out_meta = src.meta.copy()\n",
    "  \n",
    "    out_meta.update({\"driver\": \"GTiff\",\n",
    "                     \"height\": out_image.shape[1],\n",
    "                     \"width\": out_image.shape[2],\n",
    "                     \"transform\": out_transform})\n",
    "\n",
    "    with rasterio.open(outfile, \"w\", **out_meta) as dest:\n",
    "     dest.write(out_image)\n"
   ]
  },
  {
   "cell_type": "code",
   "execution_count": 6,
   "metadata": {},
   "outputs": [],
   "source": [
    "myshpfile= pathshp+'austin_tx_epsg32614.shp'"
   ]
  },
  {
   "cell_type": "code",
   "execution_count": 19,
   "metadata": {},
   "outputs": [
    {
     "data": {
      "text/plain": [
       "'/Users/yamaoka/landsat/downloads/LC80270392014118LGN00/clipped/'"
      ]
     },
     "execution_count": 19,
     "metadata": {},
     "output_type": "execute_result"
    }
   ],
   "source": [
    "#root  = \"LC80270392013179LGN00\" #AUSTIN 2013-06-28\n",
    "#root  = \"LC80270392017030LGN00\" #AUSTIN 2017-01-30\n",
    "root  = \"LC80270392014118LGN00\" #AUSTIN 2014-04-28\n",
    "inpath = pathimg+root+'/'\n",
    "outpath = inpath+'clipped/'\n",
    "check_create_folder(outpath)"
   ]
  },
  {
   "cell_type": "code",
   "execution_count": 20,
   "metadata": {},
   "outputs": [],
   "source": [
    "clfile = root+\"_B1.TIF\"\n",
    "cropbyshp(inpath+clfile,outpath+clfile,myshpfile)\n",
    "clfile = root+\"_B2.TIF\"\n",
    "cropbyshp(inpath+clfile,outpath+clfile,myshpfile)\n",
    "clfile = root+\"_B3.TIF\"\n",
    "cropbyshp(inpath+clfile,outpath+clfile,myshpfile)\n",
    "clfile = root+\"_B4.TIF\"\n",
    "cropbyshp(inpath+clfile,outpath+clfile,myshpfile)\n",
    "clfile = root+\"_B5.TIF\"\n",
    "cropbyshp(inpath+clfile,outpath+clfile,myshpfile)\n",
    "clfile = root+\"_B6.TIF\"\n",
    "cropbyshp(inpath+clfile,outpath+clfile,myshpfile)"
   ]
  },
  {
   "cell_type": "code",
   "execution_count": 21,
   "metadata": {
    "collapsed": true
   },
   "outputs": [],
   "source": [
    "clfile = root+\"_B7.TIF\"\n",
    "cropbyshp(inpath+clfile,outpath+clfile,myshpfile)\n",
    "clfile = root+\"_B8.TIF\"\n",
    "cropbyshp(inpath+clfile,outpath+clfile,myshpfile)\n",
    "clfile = root+\"_B9.TIF\"\n",
    "cropbyshp(inpath+clfile,outpath+clfile,myshpfile)\n",
    "clfile = root+\"_B10.TIF\"\n",
    "cropbyshp(inpath+clfile,outpath+clfile,myshpfile)\n",
    "clfile = root+\"_BQA.TIF\"\n",
    "cropbyshp(inpath+clfile,outpath+clfile,myshpfile)"
   ]
  },
  {
   "cell_type": "code",
   "execution_count": 23,
   "metadata": {
    "collapsed": true
   },
   "outputs": [],
   "source": [
    "clfile = root+\"_B8.TIF\"\n",
    "cropbyshp(inpath+clfile,\"test_r.tif\",\"tempepsg3214.shp\")"
   ]
  },
  {
   "cell_type": "code",
   "execution_count": null,
   "metadata": {
    "collapsed": true
   },
   "outputs": [],
   "source": []
  }
 ],
 "metadata": {
  "kernelspec": {
   "display_name": "Python 3",
   "language": "python",
   "name": "python3"
  },
  "language_info": {
   "codemirror_mode": {
    "name": "ipython",
    "version": 3
   },
   "file_extension": ".py",
   "mimetype": "text/x-python",
   "name": "python",
   "nbconvert_exporter": "python",
   "pygments_lexer": "ipython3",
   "version": "3.5.3"
  }
 },
 "nbformat": 4,
 "nbformat_minor": 2
}
