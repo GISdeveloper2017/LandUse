{
 "cells": [
  {
   "cell_type": "code",
   "execution_count": 1,
   "metadata": {
    "collapsed": true
   },
   "outputs": [],
   "source": [
    "import matplotlib\n",
    "matplotlib.use('Agg')\n",
    "\n",
    "import numpy as np\n",
    "#Pan Sharpening Demo\n",
    "import skimage\n",
    "import skimage.io\n",
    "import skimage.transform\n",
    "\n",
    "from skimage import data\n",
    "from skimage.viewer import ImageViewer\n",
    "\n",
    "%matplotlib inline"
   ]
  },
  {
   "cell_type": "code",
   "execution_count": 2,
   "metadata": {
    "collapsed": true
   },
   "outputs": [],
   "source": [
    "#Channels, 2 blue, 3 green, 4 red\n",
    "def sharpen(root):\n",
    "    path=\"/Users/yamaoka/landsat/downloads/\"+root+\"/clipped/\"\n",
    "\n",
    "    r=skimage.io.imread(path+root+\"_B4.TIF\", as_grey=True) #Load Red\n",
    "    g=skimage.io.imread(path+root+\"_B3.TIF\", as_grey=True) #Load Green\n",
    "    b=skimage.io.imread(path+root+\"_B2.TIF\", as_grey=True) #Load Blue\n",
    "    ir=skimage.io.imread(path+root+\"_B5.TIF\", as_grey=True) #Band 5 - Near Infrared\n",
    "    \n",
    "    #ndvi process \n",
    "    ndvi = np.true_divide((ir - r), (ir + r))\n",
    "    rgb= np.dstack((r,g,b)) #Combine into correctly ordered stack\n",
    "\n",
    "    landsat_highres=path+root+\"_B8.TIF\"\n",
    "    pan=skimage.io.imread(landsat_highres, as_grey=True)/65535 #Load chromatic, normalize to between 0 and 1\n",
    "\n",
    "\n",
    "    rgb_big=skimage.transform.resize(rgb, output_shape=(pan.shape[0],pan.shape[1],3), order=3, mode='constant', cval=0.0) #Resize the rgb composite to match the chromatic\n",
    "    ndvi_big=skimage.transform.resize(ndvi, output_shape=(pan.shape[0],pan.shape[1]), order=3, mode='constant', cval=0.0) #Resize the rgb composite to match the chromatic\n",
    "\n",
    "    hsv = skimage.color.rgb2hsv(rgb_big) #Conver the rgb to the HSV colorspace\n",
    "    hsv[...,2]=pan #Poor man's pan sharpening, replace the intensity channel with the observed chromatic image\n",
    "    rgb_pan = skimage.color.hsv2rgb(hsv) #Convert back to rgb space\n",
    "    return rgb_pan, ndvi_big \n"
   ]
  },
  {
   "cell_type": "code",
   "execution_count": 3,
   "metadata": {
    "collapsed": true
   },
   "outputs": [],
   "source": [
    "landsat1, ndvi=sharpen(root=\"LC80270392017030LGN00\") #File name of your imagery"
   ]
  },
  {
   "cell_type": "code",
   "execution_count": 4,
   "metadata": {
    "collapsed": true
   },
   "outputs": [],
   "source": [
    "#viewer = ImageViewer(ndvi)\n",
    "#viewer.show()"
   ]
  },
  {
   "cell_type": "code",
   "execution_count": 5,
   "metadata": {
    "collapsed": true
   },
   "outputs": [],
   "source": [
    "from scipy import ndimage as ndi\n",
    "from math import floor\n",
    "landsat1_dog = landsat1 - ndi.gaussian_filter(landsat1, 15) #Difference of gaussians"
   ]
  },
  {
   "cell_type": "code",
   "execution_count": 6,
   "metadata": {},
   "outputs": [
    {
     "name": "stdout",
     "output_type": "stream",
     "text": [
      "stack_window.shape \n",
      "(3117, 2451, 1, 3, 3, 7)\n",
      "stack_flat.shape\n",
      "(7639767, 63)\n"
     ]
    }
   ],
   "source": [
    "stack=np.dstack((landsat1, landsat1_dog, ndvi))\n",
    "#stack=np.dstack((landsat1, landsat1_dog))\n",
    "\n",
    "depth=stack.shape[2]\n",
    "edge=3\n",
    "buff=floor(edge/2)\n",
    "stack_window=skimage.util.view_as_windows(np.pad(stack,pad_width=((buff,buff), (buff,buff),(0,0)), mode ='minimum'), window_shape=(edge,edge,depth), step=1) \n",
    "print('stack_window.shape ')\n",
    "print(stack_window.shape) #3 by 3 moving window around each pixel\n",
    "\n",
    "stack_flat=stack_window.reshape(-1,edge*edge*depth) \n",
    "print('stack_flat.shape')\n",
    "print(stack_flat.shape) #Flatten to rows"
   ]
  },
  {
   "cell_type": "code",
   "execution_count": 7,
   "metadata": {
    "collapsed": true
   },
   "outputs": [],
   "source": [
    "#make labels\n",
    "building= skimage.io.imread('/Users/yamaoka/Dropbox/Insight/landuse/labels/austin_tx_buildings_labels_allt.TIF', as_grey=True) #Load Buildings\n",
    "landuse = skimage.io.imread('/Users/yamaoka/Dropbox/Insight/landuse/labels/austin_tx_landuse_labels_noallt.TIF', as_grey=True) #Load Landuse tmp"
   ]
  },
  {
   "cell_type": "code",
   "execution_count": 8,
   "metadata": {
    "collapsed": true
   },
   "outputs": [],
   "source": [
    "#viewer = ImageViewer(building)\n",
    "#viewer.show()"
   ]
  },
  {
   "cell_type": "code",
   "execution_count": 9,
   "metadata": {},
   "outputs": [
    {
     "name": "stdout",
     "output_type": "stream",
     "text": [
      "[55537 55537 55537 ..., 55537 55537 55537]\n",
      "55537\n"
     ]
    }
   ],
   "source": [
    "ll = landuse.flatten() \n",
    "lb = building.flatten() \n",
    "\n",
    "print(ll[ll>1.0])\n",
    "print(lb[0])"
   ]
  },
  {
   "cell_type": "code",
   "execution_count": 10,
   "metadata": {},
   "outputs": [
    {
     "name": "stdout",
     "output_type": "stream",
     "text": [
      "(2424080,)\n"
     ]
    }
   ],
   "source": [
    "nodata = 55537\n",
    "\n",
    "ll[ll != nodata] = 1.\n",
    "lb[lb != nodata] = 2.\n",
    "\n",
    "ll[ll == nodata] = 0.\n",
    "lb[lb == nodata] = 0.\n",
    "\n",
    "labels = ll+lb\n",
    "labels[labels==3] = 2. #i know this is stupid need to fix later\n",
    "\n",
    "print(labels[labels!=0].shape)"
   ]
  },
  {
   "cell_type": "code",
   "execution_count": 11,
   "metadata": {
    "collapsed": true
   },
   "outputs": [],
   "source": [
    "#test_reshape=labels.reshape(landuse.shape)\n",
    "#print(test_reshape.shape)\n",
    "#labels_predicted_andknown[labelsfixed>0]=labelsfixed[labelsfixed>0]\n",
    "#finalcolors=np.array([[0,0,0], #0 unlabeled\n",
    "#                     [32,66,239], #1 water\n",
    "#                     [0,102,0], #2 vegitation\n",
    "#                     [102,51,0], #3 buildings\n",
    "#                     [0,0,0], #4 rail\n",
    "#                     [128,128,128]],dtype=np.int64)#5 road\n",
    "#img = finalcolors[test_reshape]\n",
    "#outpath = \"out/path/here\"\n",
    "#skimage.io.imsave(\"rf_predictions.png\", labels_predicted)\n",
    "#skimage.io.imsave(\"/Users/yamaoka/Desktop/test.png\", img)"
   ]
  },
  {
   "cell_type": "code",
   "execution_count": 12,
   "metadata": {
    "collapsed": true
   },
   "outputs": [],
   "source": [
    "x_tmp=stack_flat\n",
    "y_tmp=labels\n",
    "\n",
    "x_tmp = stack_flat[labels>0,...]\n",
    "y_tmp = labels[labels>0]\n",
    "\n",
    "y_tmp = y_tmp.astype(int)"
   ]
  },
  {
   "cell_type": "code",
   "execution_count": 13,
   "metadata": {},
   "outputs": [
    {
     "name": "stderr",
     "output_type": "stream",
     "text": [
      "/Users/yamaoka/anaconda/envs/py35/lib/python3.5/site-packages/ipykernel_launcher.py:6: RuntimeWarning: divide by zero encountered in true_divide\n",
      "  \n"
     ]
    }
   ],
   "source": [
    "from sklearn.model_selection import train_test_split\n",
    "x_train, x_test, y_train, y_test = train_test_split(x_tmp, y_tmp, test_size=0.99, random_state=42)\n",
    "\n",
    "proportions= np.bincount(y_train)\n",
    "smallest=min(proportions[1:])\n",
    "weights = smallest/proportions\n",
    "weights = weights[y_train]"
   ]
  },
  {
   "cell_type": "code",
   "execution_count": 14,
   "metadata": {},
   "outputs": [
    {
     "name": "stdout",
     "output_type": "stream",
     "text": [
      "[    0  9538 14702]\n",
      "(24240, 63)\n",
      "[1 1 1 ..., 2 1 2]\n",
      "[ 1.  1.  1. ...,  1.  1.  1.]\n"
     ]
    }
   ],
   "source": [
    "print(proportions)\n",
    "print(x_train.shape)\n",
    "print(y_train)\n",
    "print(weights[y_train==1])"
   ]
  },
  {
   "cell_type": "code",
   "execution_count": 15,
   "metadata": {},
   "outputs": [
    {
     "data": {
      "text/plain": [
       "SVC(C=100, cache_size=200, class_weight=None, coef0=0.0,\n",
       "  decision_function_shape=None, degree=3, gamma=0.001, kernel='rbf',\n",
       "  max_iter=-1, probability=False, random_state=None, shrinking=True,\n",
       "  tol=0.001, verbose=False)"
      ]
     },
     "execution_count": 15,
     "metadata": {},
     "output_type": "execute_result"
    }
   ],
   "source": [
    "from sklearn.svm import SVC\n",
    "rf = SVC(gamma=0.001, C=100)\n",
    "rf.fit(x_train,y_train, sample_weight=weights)\n",
    "\n",
    "rf.fit(x_train,y_train, sample_weight=weights)"
   ]
  },
  {
   "cell_type": "code",
   "execution_count": 16,
   "metadata": {},
   "outputs": [
    {
     "data": {
      "text/plain": [
       "0.68198463230882056"
      ]
     },
     "execution_count": 16,
     "metadata": {},
     "output_type": "execute_result"
    }
   ],
   "source": [
    "rf.score(x_test,y_test)"
   ]
  },
  {
   "cell_type": "code",
   "execution_count": 17,
   "metadata": {
    "collapsed": true
   },
   "outputs": [],
   "source": [
    "x_test_big, x_test_small, y_test_big, y_test_small = train_test_split(x_test, y_test, test_size=0.01, random_state=42)"
   ]
  },
  {
   "cell_type": "code",
   "execution_count": 18,
   "metadata": {},
   "outputs": [
    {
     "name": "stdout",
     "output_type": "stream",
     "text": [
      "(936155, 63)\n"
     ]
    }
   ],
   "source": [
    "x_check_bld = x_test_big[y_test_big==1,...]\n",
    "y_check_bld = y_test_big[y_test_big==1]\n",
    "print(x_check_bld.shape)\n",
    "\n",
    "predictions=rf.predict(x_check_bld)"
   ]
  },
  {
   "cell_type": "code",
   "execution_count": 19,
   "metadata": {},
   "outputs": [
    {
     "name": "stdout",
     "output_type": "stream",
     "text": [
      "(630183,)\n"
     ]
    },
    {
     "data": {
      "text/plain": [
       "0.67316096159289862"
      ]
     },
     "execution_count": 19,
     "metadata": {},
     "output_type": "execute_result"
    }
   ],
   "source": [
    "diff = predictions-y_check_bld\n",
    "\n",
    "print(diff[diff==0].shape)\n",
    "rf.score(x_check_bld,y_check_bld)"
   ]
  },
  {
   "cell_type": "code",
   "execution_count": 20,
   "metadata": {},
   "outputs": [
    {
     "name": "stdout",
     "output_type": "stream",
     "text": [
      "[ 0.68208333  0.705625    0.658125    0.70458333  0.67909981]\n",
      "Accuracy: 0.69 (+/- 0.04)\n"
     ]
    }
   ],
   "source": [
    "\n",
    "from sklearn.model_selection import cross_val_score\n",
    "scores = cross_val_score(rf, x_test_small, y_test_small, cv=5)\n",
    "print(scores)\n",
    "print(\"Accuracy: %0.2f (+/- %0.2f)\" % (scores.mean(), scores.std() * 2))"
   ]
  },
  {
   "cell_type": "code",
   "execution_count": 21,
   "metadata": {},
   "outputs": [
    {
     "name": "stdout",
     "output_type": "stream",
     "text": [
      "[ 0.59616729  0.64664839  0.53239201  0.64803386  0.57956616]\n",
      "F1: 0.60 (+/- 0.09)\n"
     ]
    }
   ],
   "source": [
    "#rf.oob_score_\n",
    "from sklearn import metrics\n",
    "f1scores = cross_val_score(rf, x_test_small, y_test_small, cv=5, scoring='f1_macro')\n",
    "print(f1scores)\n",
    "print(\"F1: %0.2f (+/- %0.2f)\" % (f1scores.mean(), f1scores.std() * 2))"
   ]
  },
  {
   "cell_type": "code",
   "execution_count": 30,
   "metadata": {
    "collapsed": true
   },
   "outputs": [],
   "source": [
    "import pickle\n",
    "filename='rf200_242ktrain_wnvdi.sav'\n",
    "pickle.dump(rf, open(filename, 'wb'))"
   ]
  },
  {
   "cell_type": "markdown",
   "metadata": {},
   "source": [
    "import pickle\n"
   ]
  },
  {
   "cell_type": "code",
   "execution_count": null,
   "metadata": {
    "collapsed": true
   },
   "outputs": [],
   "source": [
    "from sklearn.svm import SVC\n",
    "clf = svm.SVC(gamma=0.001, C=100)\n",
    "clf.fit(x_train,y_train, sample_weight=weights)\n",
    "filename='svc001100_first.sav'\n",
    "pickle.dump(clf, open(filename, 'wb'))"
   ]
  },
  {
   "cell_type": "code",
   "execution_count": 98,
   "metadata": {},
   "outputs": [
    {
     "name": "stderr",
     "output_type": "stream",
     "text": [
      "[Parallel(n_jobs=2)]: Done  46 tasks      | elapsed:  5.9min\n",
      "[Parallel(n_jobs=2)]: Done 100 out of 100 | elapsed: 15.6min finished\n"
     ]
    },
    {
     "ename": "NameError",
     "evalue": "name 'labels_predicted_andknown' is not defined",
     "output_type": "error",
     "traceback": [
      "\u001b[0;31m---------------------------------------------------------------------------\u001b[0m",
      "\u001b[0;31mNameError\u001b[0m                                 Traceback (most recent call last)",
      "\u001b[0;32m<ipython-input-98-79147eaab4a4>\u001b[0m in \u001b[0;36m<module>\u001b[0;34m()\u001b[0m\n\u001b[1;32m      2\u001b[0m \u001b[0mpredictions\u001b[0m\u001b[0;34m=\u001b[0m\u001b[0mrf\u001b[0m\u001b[0;34m.\u001b[0m\u001b[0mpredict\u001b[0m\u001b[0;34m(\u001b[0m\u001b[0mx_test\u001b[0m\u001b[0;34m)\u001b[0m\u001b[0;34m\u001b[0m\u001b[0m\n\u001b[1;32m      3\u001b[0m \u001b[0mlabels_predicted\u001b[0m\u001b[0;34m=\u001b[0m\u001b[0mpredictions\u001b[0m\u001b[0;34m.\u001b[0m\u001b[0mreshape\u001b[0m\u001b[0;34m(\u001b[0m\u001b[0mlabelsfixed\u001b[0m\u001b[0;34m.\u001b[0m\u001b[0mshape\u001b[0m\u001b[0;34m)\u001b[0m\u001b[0;34m\u001b[0m\u001b[0m\n\u001b[0;32m----> 4\u001b[0;31m \u001b[0mlabels_predicted_andknown\u001b[0m\u001b[0;34m[\u001b[0m\u001b[0mlabelsfixed\u001b[0m\u001b[0;34m>\u001b[0m\u001b[0;36m0\u001b[0m\u001b[0;34m]\u001b[0m\u001b[0;34m=\u001b[0m\u001b[0mlabelsfixed\u001b[0m\u001b[0;34m[\u001b[0m\u001b[0mlabelsfixed\u001b[0m\u001b[0;34m>\u001b[0m\u001b[0;36m0\u001b[0m\u001b[0;34m]\u001b[0m\u001b[0;34m\u001b[0m\u001b[0m\n\u001b[0m\u001b[1;32m      5\u001b[0m finalcolors=np.array([[0,0,0], #0 unlabeled\n\u001b[1;32m      6\u001b[0m                      \u001b[0;34m[\u001b[0m\u001b[0;36m32\u001b[0m\u001b[0;34m,\u001b[0m\u001b[0;36m66\u001b[0m\u001b[0;34m,\u001b[0m\u001b[0;36m239\u001b[0m\u001b[0;34m]\u001b[0m\u001b[0;34m,\u001b[0m \u001b[0;31m#1 water\u001b[0m\u001b[0;34m\u001b[0m\u001b[0m\n",
      "\u001b[0;31mNameError\u001b[0m: name 'labels_predicted_andknown' is not defined"
     ]
    }
   ],
   "source": [
    "labelsfixed = labels.reshape(landuse.shape)\n",
    "predictions=rf.predict(x_test) "
   ]
  },
  {
   "cell_type": "code",
   "execution_count": 100,
   "metadata": {},
   "outputs": [
    {
     "name": "stderr",
     "output_type": "stream",
     "text": [
      "/Users/yamaoka/anaconda/envs/py35/lib/python3.5/site-packages/skimage/io/_io.py:132: UserWarning: rf_predictions.png is a low contrast image\n",
      "  warn('%s is a low contrast image' % fname)\n"
     ]
    }
   ],
   "source": [
    "\n"
   ]
  },
  {
   "cell_type": "code",
   "execution_count": 109,
   "metadata": {},
   "outputs": [
    {
     "name": "stderr",
     "output_type": "stream",
     "text": [
      "/Users/yamaoka/anaconda/envs/py35/lib/python3.5/site-packages/skimage/util/dtype.py:110: UserWarning: Possible precision loss when converting from float64 to uint16\n",
      "  \"%s to %s\" % (dtypeobj_in, dtypeobj))\n"
     ]
    }
   ],
   "source": [
    "#labels_predicted=predictions.reshape(labelsfixed.shape)\n",
    "#labels_predicted_andknown[labelsfixed>0]=labelsfixed[labelsfixed>0]\n",
    "#inalcolors=np.array([[0,0,0], #0 unlabeled\n",
    "#                     [32,66,239], #1 water\n",
    "#                     [0,102,0], #2 vegitation\n",
    "#                     [102,51,0], #3 buildings\n",
    "#                     [0,0,0], #4 rail\n",
    "#                     [128,128,128]])#5 road\n",
    "#outpath = \"out/path/here\"\n",
    "#skimage.io.imsave(\"rf_predictions.png\", labels_predicted)\n",
    "#skimage.io.imsave(\"rf_predictions_andknown.png\", finalcolors[labels_predicted_andknown])testcolors=np.array([0,0.8,0.2]) \n",
    "#skimage.io.imsave(\"rf_predictions.png\", testcolors[labels_predicted],)\n",
    "#skimage.io.imsave(\"dog.png\", landsat1_dog)"
   ]
  }
 ],
 "metadata": {
  "kernelspec": {
   "display_name": "Python 3",
   "language": "python",
   "name": "python3"
  },
  "language_info": {
   "codemirror_mode": {
    "name": "ipython",
    "version": 3
   },
   "file_extension": ".py",
   "mimetype": "text/x-python",
   "name": "python",
   "nbconvert_exporter": "python",
   "pygments_lexer": "ipython3",
   "version": "3.5.3"
  }
 },
 "nbformat": 4,
 "nbformat_minor": 2
}
