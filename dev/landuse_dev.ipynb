{
 "cells": [
  {
   "cell_type": "code",
   "execution_count": 1,
   "metadata": {
    "collapsed": true
   },
   "outputs": [],
   "source": [
    "import numpy as np\n",
    "#Pan Sharpening Demo\n",
    "import skimage\n",
    "import skimage.io\n",
    "import skimage.transform"
   ]
  },
  {
   "cell_type": "code",
   "execution_count": 2,
   "metadata": {
    "collapsed": true
   },
   "outputs": [],
   "source": [
    "#Channels, 2 blue, 3 green, 4 red\n",
    "def sharpen(root):\n",
    "    path=\"/Users/yamaoka/landsat/downloads/\"+root+\"/clipped/\"\n",
    "\n",
    "    r=skimage.io.imread(path+root+\"_B4.TIF\", as_grey=True) #Load Red\n",
    "    g=skimage.io.imread(path+root+\"_B3.TIF\", as_grey=True) #Load Green\n",
    "    b=skimage.io.imread(path+root+\"_B2.TIF\", as_grey=True) #Load Blue\n",
    "    rgb= np.dstack((r,g,b )) #Combine into correctly ordered stack\n",
    "\n",
    "    landsat_highres=path+root+\"_B8.TIF\"\n",
    "    pan=skimage.io.imread(landsat_highres, as_grey=True)/65535 #Load chromatic, normalize to between 0 and 1\n",
    "\n",
    "    rgb_big=skimage.transform.resize(rgb, output_shape=(pan.shape[0],pan.shape[1],3), order=3, mode='constant', cval=0.0) #Resize the rgb composite to match the chromatic\n",
    "    hsv = skimage.color.rgb2hsv(rgb_big) #Conver the rgb to the HSV colorspace\n",
    "    hsv[...,2]=pan #Poor man's pan sharpening, replace the intensity channel with the observed chromatic image\n",
    "    rgb_pan = skimage.color.hsv2rgb(hsv) #Convert back to rgb space\n",
    "    return rgb_pan\n"
   ]
  },
  {
   "cell_type": "code",
   "execution_count": 3,
   "metadata": {
    "collapsed": true
   },
   "outputs": [],
   "source": [
    "landsat1=sharpen(root=\"LC80270392017030LGN00\") #File name of your imagery"
   ]
  },
  {
   "cell_type": "code",
   "execution_count": 5,
   "metadata": {
    "collapsed": true
   },
   "outputs": [],
   "source": [
    "from scipy import ndimage as ndi\n",
    "from math import floor\n",
    "\n",
    "landsat1_dog = landsat1 - ndi.gaussian_filter(landsat1, 15) #Difference of gaussians"
   ]
  },
  {
   "cell_type": "code",
   "execution_count": 6,
   "metadata": {},
   "outputs": [
    {
     "data": {
      "text/plain": [
       "(7639767, 54)"
      ]
     },
     "execution_count": 6,
     "metadata": {},
     "output_type": "execute_result"
    }
   ],
   "source": [
    "stack=np.dstack((landsat1, landsat1_dog))\n",
    "depth=stack.shape[2]\n",
    "edge=3\n",
    "buff=floor(edge/2)\n",
    "stack_window=skimage.util.view_as_windows(np.pad(stack,pad_width=((buff,buff), (buff,buff),(0,0)), mode ='minimum'), window_shape=(edge,edge,depth), step=1) \n",
    "stack_window.shape #3 by 3 moving window around each pixel\n",
    "\n",
    "stack_flat=stack_window.reshape(-1,edge*edge*depth) ; stack_flat.shape #Flatten to rows"
   ]
  },
  {
   "cell_type": "code",
   "execution_count": 42,
   "metadata": {
    "collapsed": true
   },
   "outputs": [],
   "source": [
    "#make labels\n",
    "building_small= skimage.io.imread('/Users/yamaoka/landuse/labels/texas-latest-free.shp/austin_tx_building.tif', as_grey=True) #Load Buildings\n",
    "landuse_small = skimage.io.imread('/Users/yamaoka/landuse/labels/texas-latest-free.shp/austin_tx_landuse.tif', as_grey=True) #Load Landuse tmp\n",
    "\n",
    "building= skimage.transform.resize(building_small, output_shape=(stack.shape[0],stack.shape[1]), order=3, mode='constant', cval=1.0) #Resize the labels\n",
    "landuse = skimage.transform.resize(landuse_small, output_shape=(stack.shape[0],stack.shape[1]), order=3, mode='constant', cval=1.0) #Resize the labels"
   ]
  },
  {
   "cell_type": "code",
   "execution_count": 89,
   "metadata": {
    "collapsed": true
   },
   "outputs": [],
   "source": [
    "ll = landuse.flatten()\n",
    "lb = building.flatten()"
   ]
  },
  {
   "cell_type": "code",
   "execution_count": 90,
   "metadata": {},
   "outputs": [
    {
     "name": "stdout",
     "output_type": "stream",
     "text": [
      "[ 1.  1.  1. ...,  1.  1.  1.]\n",
      "[ 0.99995532  0.99998395  0.99900523 ...,  0.99982725  0.99983609\n",
      "  0.99999119]\n",
      "[ 0.  0.  0. ...,  0.  0.  0.]\n"
     ]
    }
   ],
   "source": [
    "ll[ll == 1.0] = 0\n",
    "lb[lb == 1.0] = 0\n",
    "ll[ll != 0.0] = 1\n",
    "lb[lb != 0.0] = 2\n",
    "labels = ll+lb\n",
    "labels[labels==3] = 2 #i know this is stupid need to fix later"
   ]
  },
  {
   "cell_type": "code",
   "execution_count": 91,
   "metadata": {},
   "outputs": [
    {
     "name": "stdout",
     "output_type": "stream",
     "text": [
      "[     0 769661 150222]\n",
      "[ 1.19517944  1.19517944  1.19517944 ...,  1.19517944  1.19517944\n",
      "  1.19517944]\n"
     ]
    },
    {
     "name": "stderr",
     "output_type": "stream",
     "text": [
      "/Users/yamaoka/anaconda/envs/py35/lib/python3.5/site-packages/ipykernel_launcher.py:10: RuntimeWarning: divide by zero encountered in true_divide\n",
      "  # Remove the CWD from sys.path while we load stuff.\n"
     ]
    }
   ],
   "source": [
    "x_test=stack_flat\n",
    "y_test=labels\n",
    "\n",
    "x_train=x_test[y_test>0,...]\n",
    "y_train=y_test[y_test>0]\n",
    "\n",
    "y_train = y_train.astype(int)\n",
    "\n",
    "proportions=1/(np.bincount(y_train)/y_train.shape)\n",
    "weights = proportions/sum(proportions[1:])\n",
    "weights = proportions[y_train]"
   ]
  },
  {
   "cell_type": "code",
   "execution_count": 94,
   "metadata": {},
   "outputs": [
    {
     "name": "stderr",
     "output_type": "stream",
     "text": [
      "[Parallel(n_jobs=2)]: Done  46 tasks      | elapsed: 39.3min\n",
      "[Parallel(n_jobs=2)]: Done 100 out of 100 | elapsed: 82.3min finished\n"
     ]
    },
    {
     "data": {
      "text/plain": [
       "RandomForestClassifier(bootstrap=True, class_weight=None, criterion='gini',\n",
       "            max_depth=None, max_features='auto', max_leaf_nodes=None,\n",
       "            min_impurity_split=1e-07, min_samples_leaf=1,\n",
       "            min_samples_split=2, min_weight_fraction_leaf=0.0,\n",
       "            n_estimators=100, n_jobs=2, oob_score=True, random_state=0,\n",
       "            verbose=True, warm_start=False)"
      ]
     },
     "execution_count": 94,
     "metadata": {},
     "output_type": "execute_result"
    }
   ],
   "source": [
    "import sklearn.ensemble\n",
    "rf=sklearn.ensemble.RandomForestClassifier(n_estimators=100, criterion='gini',\n",
    "max_depth=None, min_samples_split=2, min_samples_leaf=1,\n",
    "max_features='auto', bootstrap=True,\n",
    "oob_score=True, n_jobs=2, random_state=0, verbose=True)\n",
    "\n",
    "rf.fit(x_train,y_train, sample_weight=weights)"
   ]
  },
  {
   "cell_type": "code",
   "execution_count": 97,
   "metadata": {
    "collapsed": true
   },
   "outputs": [],
   "source": [
    "rf.oob_score_\n",
    "import pickle\n",
    "filename='rf100_first.sav'\n",
    "pickle.dump(rf, open(filename, 'wb'))"
   ]
  },
  {
   "cell_type": "markdown",
   "metadata": {},
   "source": [
    "import pickle\n"
   ]
  },
  {
   "cell_type": "code",
   "execution_count": 98,
   "metadata": {},
   "outputs": [
    {
     "name": "stderr",
     "output_type": "stream",
     "text": [
      "[Parallel(n_jobs=2)]: Done  46 tasks      | elapsed:  5.9min\n",
      "[Parallel(n_jobs=2)]: Done 100 out of 100 | elapsed: 15.6min finished\n"
     ]
    },
    {
     "ename": "NameError",
     "evalue": "name 'labels_predicted_andknown' is not defined",
     "output_type": "error",
     "traceback": [
      "\u001b[0;31m---------------------------------------------------------------------------\u001b[0m",
      "\u001b[0;31mNameError\u001b[0m                                 Traceback (most recent call last)",
      "\u001b[0;32m<ipython-input-98-79147eaab4a4>\u001b[0m in \u001b[0;36m<module>\u001b[0;34m()\u001b[0m\n\u001b[1;32m      2\u001b[0m \u001b[0mpredictions\u001b[0m\u001b[0;34m=\u001b[0m\u001b[0mrf\u001b[0m\u001b[0;34m.\u001b[0m\u001b[0mpredict\u001b[0m\u001b[0;34m(\u001b[0m\u001b[0mx_test\u001b[0m\u001b[0;34m)\u001b[0m\u001b[0;34m\u001b[0m\u001b[0m\n\u001b[1;32m      3\u001b[0m \u001b[0mlabels_predicted\u001b[0m\u001b[0;34m=\u001b[0m\u001b[0mpredictions\u001b[0m\u001b[0;34m.\u001b[0m\u001b[0mreshape\u001b[0m\u001b[0;34m(\u001b[0m\u001b[0mlabelsfixed\u001b[0m\u001b[0;34m.\u001b[0m\u001b[0mshape\u001b[0m\u001b[0;34m)\u001b[0m\u001b[0;34m\u001b[0m\u001b[0m\n\u001b[0;32m----> 4\u001b[0;31m \u001b[0mlabels_predicted_andknown\u001b[0m\u001b[0;34m[\u001b[0m\u001b[0mlabelsfixed\u001b[0m\u001b[0;34m>\u001b[0m\u001b[0;36m0\u001b[0m\u001b[0;34m]\u001b[0m\u001b[0;34m=\u001b[0m\u001b[0mlabelsfixed\u001b[0m\u001b[0;34m[\u001b[0m\u001b[0mlabelsfixed\u001b[0m\u001b[0;34m>\u001b[0m\u001b[0;36m0\u001b[0m\u001b[0;34m]\u001b[0m\u001b[0;34m\u001b[0m\u001b[0m\n\u001b[0m\u001b[1;32m      5\u001b[0m finalcolors=np.array([[0,0,0], #0 unlabeled\n\u001b[1;32m      6\u001b[0m                      \u001b[0;34m[\u001b[0m\u001b[0;36m32\u001b[0m\u001b[0;34m,\u001b[0m\u001b[0;36m66\u001b[0m\u001b[0;34m,\u001b[0m\u001b[0;36m239\u001b[0m\u001b[0;34m]\u001b[0m\u001b[0;34m,\u001b[0m \u001b[0;31m#1 water\u001b[0m\u001b[0;34m\u001b[0m\u001b[0m\n",
      "\u001b[0;31mNameError\u001b[0m: name 'labels_predicted_andknown' is not defined"
     ]
    }
   ],
   "source": [
    "labelsfixed = labels.reshape(landuse.shape)\n",
    "predictions=rf.predict(x_test)"
   ]
  },
  {
   "cell_type": "code",
   "execution_count": 100,
   "metadata": {},
   "outputs": [
    {
     "name": "stderr",
     "output_type": "stream",
     "text": [
      "/Users/yamaoka/anaconda/envs/py35/lib/python3.5/site-packages/skimage/io/_io.py:132: UserWarning: rf_predictions.png is a low contrast image\n",
      "  warn('%s is a low contrast image' % fname)\n"
     ]
    }
   ],
   "source": [
    "labels_predicted=predictions.reshape(labelsfixed.shape)\n",
    "#labels_predicted_andknown[labelsfixed>0]=labelsfixed[labelsfixed>0]\n",
    "#inalcolors=np.array([[0,0,0], #0 unlabeled\n",
    "#                     [32,66,239], #1 water\n",
    "#                     [0,102,0], #2 vegitation\n",
    "#                     [102,51,0], #3 buildings\n",
    "#                     [0,0,0], #4 rail\n",
    "#                     [128,128,128]])#5 road\n",
    "#outpath = \"out/path/here\"\n",
    "#skimage.io.imsave(\"rf_predictions.png\", labels_predicted)\n",
    "#skimage.io.imsave(\"rf_predictions_andknown.png\", finalcolors[labels_predicted_andknown])\n"
   ]
  },
  {
   "cell_type": "code",
   "execution_count": 109,
   "metadata": {},
   "outputs": [
    {
     "name": "stderr",
     "output_type": "stream",
     "text": [
      "/Users/yamaoka/anaconda/envs/py35/lib/python3.5/site-packages/skimage/util/dtype.py:110: UserWarning: Possible precision loss when converting from float64 to uint16\n",
      "  \"%s to %s\" % (dtypeobj_in, dtypeobj))\n"
     ]
    }
   ],
   "source": [
    "testcolors=np.array([0,0.8,0.2]) \n",
    "skimage.io.imsave(\"rf_predictions.png\", testcolors[labels_predicted],)\n",
    "skimage.io.imsave(\"dog.png\", landsat1_dog)"
   ]
  }
 ],
 "metadata": {
  "kernelspec": {
   "display_name": "Python 3",
   "language": "python",
   "name": "python3"
  },
  "language_info": {
   "codemirror_mode": {
    "name": "ipython",
    "version": 3
   },
   "file_extension": ".py",
   "mimetype": "text/x-python",
   "name": "python",
   "nbconvert_exporter": "python",
   "pygments_lexer": "ipython3",
   "version": "3.5.3"
  }
 },
 "nbformat": 4,
 "nbformat_minor": 2
}
