{
 "cells": [
  {
   "cell_type": "code",
   "execution_count": 1,
   "metadata": {},
   "outputs": [
    {
     "data": {
      "text/plain": [
       "True"
      ]
     },
     "execution_count": 1,
     "metadata": {},
     "output_type": "execute_result"
    }
   ],
   "source": [
    "import matplotlib\n",
    "matplotlib.use('Agg')\n",
    "from skimage.viewer import ImageViewer\n",
    "\n",
    "import numpy as np\n",
    "import cv2\n",
    "cv2.useOptimized()"
   ]
  },
  {
   "cell_type": "code",
   "execution_count": 3,
   "metadata": {},
   "outputs": [
    {
     "name": "stdout",
     "output_type": "stream",
     "text": [
      "3117 2451\n",
      "3117 2451\n"
     ]
    }
   ],
   "source": [
    "# load the image\n",
    "#image = cv2.imread('/Users/yamaoka/landsat/processed/LC80270392017030LGN00/LC80270392017030LGN00_bands_432_pan.TIF')\n",
    "image = cv2.imread('/Users/yamaoka/landsat/downloads/LC80270392017030LGN00/clipped/LC80270392017030LGN00_B8.TIF')\n",
    "#image = cv2.imread('/Users/yamaoka/Desktop/LC80270392014118LGN00_B8.TIF')\n",
    "\n",
    "label = cv2.imread('/Users/yamaoka/Dropbox/Insight/landuse/labels/austin_tx_buildings_labels_allt.TIF',1)\n",
    "output = image.copy()\n",
    "overlay = label.copy()\n",
    "height, width = label.shape[:2]\n",
    "print(height, width)\n",
    "height, width = image.shape[:2]\n",
    "print(height, width)\n",
    "#cv2.imshow(\"output\",output)\n",
    "#cv2.waitKey(0)\n"
   ]
  },
  {
   "cell_type": "code",
   "execution_count": 4,
   "metadata": {},
   "outputs": [
    {
     "data": {
      "text/plain": [
       "array([[[120, 120, 120],\n",
       "        [120, 120, 120],\n",
       "        [120, 120, 120],\n",
       "        ..., \n",
       "        [125, 125, 125],\n",
       "        [126, 126, 126],\n",
       "        [126, 126, 126]],\n",
       "\n",
       "       [[120, 120, 120],\n",
       "        [120, 120, 120],\n",
       "        [121, 121, 121],\n",
       "        ..., \n",
       "        [124, 124, 124],\n",
       "        [126, 126, 126],\n",
       "        [126, 126, 126]],\n",
       "\n",
       "       [[121, 121, 121],\n",
       "        [121, 121, 121],\n",
       "        [121, 121, 121],\n",
       "        ..., \n",
       "        [122, 122, 122],\n",
       "        [126, 126, 126],\n",
       "        [126, 126, 126]],\n",
       "\n",
       "       ..., \n",
       "       [[124, 124, 124],\n",
       "        [122, 122, 122],\n",
       "        [122, 122, 122],\n",
       "        ..., \n",
       "        [122, 122, 122],\n",
       "        [122, 122, 122],\n",
       "        [122, 122, 122]],\n",
       "\n",
       "       [[124, 124, 124],\n",
       "        [123, 123, 123],\n",
       "        [123, 123, 123],\n",
       "        ..., \n",
       "        [122, 122, 122],\n",
       "        [122, 122, 122],\n",
       "        [122, 122, 122]],\n",
       "\n",
       "       [[122, 122, 122],\n",
       "        [122, 122, 122],\n",
       "        [123, 123, 123],\n",
       "        ..., \n",
       "        [122, 122, 122],\n",
       "        [122, 122, 122],\n",
       "        [122, 122, 122]]], dtype=uint8)"
      ]
     },
     "execution_count": 4,
     "metadata": {},
     "output_type": "execute_result"
    }
   ],
   "source": [
    "# apply the overlay\n",
    "alpha=0.5\n",
    "cv2.addWeighted(overlay, alpha, output, 1 - alpha,0, output)"
   ]
  },
  {
   "cell_type": "code",
   "execution_count": 5,
   "metadata": {
    "collapsed": true
   },
   "outputs": [],
   "source": [
    "small = cv2.resize(output, (0,0), fx=0.25, fy=0.25) "
   ]
  },
  {
   "cell_type": "code",
   "execution_count": 6,
   "metadata": {},
   "outputs": [
    {
     "name": "stdout",
     "output_type": "stream",
     "text": [
      "alpha=0.5, beta=0.5\n"
     ]
    },
    {
     "data": {
      "text/plain": [
       "True"
      ]
     },
     "execution_count": 6,
     "metadata": {},
     "output_type": "execute_result"
    }
   ],
   "source": [
    "print(\"alpha={}, beta={}\".format(alpha, 1 - alpha))\n",
    "\n",
    "#cv2.startWindowThread()\n",
    "#cv2.namedWindow(\"preview\")\n",
    "#cv2.imshow(\"preview\", small)\n",
    "#cv2.waitKey(10)  \n",
    "#cv2.destroyAllWindows()\n",
    "cv2.imwrite('/Users/yamaoka/Desktop/lable_test.png',output)"
   ]
  },
  {
   "cell_type": "code",
   "execution_count": 6,
   "metadata": {},
   "outputs": [
    {
     "data": {
      "text/plain": [
       "[]"
      ]
     },
     "execution_count": 6,
     "metadata": {},
     "output_type": "execute_result"
    }
   ],
   "source": [
    "viewer = ImageViewer(output)\n",
    "viewer.show()"
   ]
  },
  {
   "cell_type": "code",
   "execution_count": null,
   "metadata": {
    "collapsed": true
   },
   "outputs": [],
   "source": []
  }
 ],
 "metadata": {
  "kernelspec": {
   "display_name": "Python 3",
   "language": "python",
   "name": "python3"
  },
  "language_info": {
   "codemirror_mode": {
    "name": "ipython",
    "version": 3
   },
   "file_extension": ".py",
   "mimetype": "text/x-python",
   "name": "python",
   "nbconvert_exporter": "python",
   "pygments_lexer": "ipython3",
   "version": "3.5.3"
  }
 },
 "nbformat": 4,
 "nbformat_minor": 2
}
