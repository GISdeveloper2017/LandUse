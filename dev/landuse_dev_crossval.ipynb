{
 "cells": [
  {
   "cell_type": "code",
   "execution_count": 1,
   "metadata": {
    "collapsed": true
   },
   "outputs": [],
   "source": [
    "import matplotlib\n",
    "matplotlib.use('Agg')\n",
    "\n",
    "import numpy as np\n",
    "#Pan Sharpening Demo\n",
    "import skimage\n",
    "import skimage.io\n",
    "import skimage.transform\n",
    "\n",
    "from skimage import data\n",
    "from skimage.viewer import ImageViewer"
   ]
  },
  {
   "cell_type": "code",
   "execution_count": 2,
   "metadata": {
    "collapsed": true
   },
   "outputs": [],
   "source": [
    "#Channels, 2 blue, 3 green, 4 red\n",
    "def sharpen(root):\n",
    "    path=\"/Users/yamaoka/landsat/downloads/\"+root+\"/clipped/\"\n",
    "\n",
    "    r=skimage.io.imread(path+root+\"_B4.TIF\", as_grey=True) #Load Red\n",
    "    g=skimage.io.imread(path+root+\"_B3.TIF\", as_grey=True) #Load Green\n",
    "    b=skimage.io.imread(path+root+\"_B2.TIF\", as_grey=True) #Load Blue\n",
    "    rgb= np.dstack((r,g,b )) #Combine into correctly ordered stack\n",
    "\n",
    "    landsat_highres=path+root+\"_B8.TIF\"\n",
    "    pan=skimage.io.imread(landsat_highres, as_grey=True)/65535 #Load chromatic, normalize to between 0 and 1\n",
    "\n",
    "    rgb_big=skimage.transform.resize(rgb, output_shape=(pan.shape[0],pan.shape[1],3), order=3, mode='constant', cval=0.0) #Resize the rgb composite to match the chromatic\n",
    "    hsv = skimage.color.rgb2hsv(rgb_big) #Conver the rgb to the HSV colorspace\n",
    "    hsv[...,2]=pan #Poor man's pan sharpening, replace the intensity channel with the observed chromatic image\n",
    "    rgb_pan = skimage.color.hsv2rgb(hsv) #Convert back to rgb space\n",
    "    return rgb_pan\n"
   ]
  },
  {
   "cell_type": "code",
   "execution_count": 3,
   "metadata": {
    "collapsed": true
   },
   "outputs": [],
   "source": [
    "%matplotlib inline\n",
    "landsat1=sharpen(root=\"LC80270392017030LGN00\") #File name of your imagery\n",
    "#viewer = ImageViewer(landsat1)\n",
    "#viewer.show()"
   ]
  },
  {
   "cell_type": "code",
   "execution_count": 4,
   "metadata": {
    "collapsed": true
   },
   "outputs": [],
   "source": [
    "from scipy import ndimage as ndi\n",
    "from math import floor\n",
    "\n",
    "landsat1_dog = landsat1 - ndi.gaussian_filter(landsat1, 15) #Difference of gaussians"
   ]
  },
  {
   "cell_type": "code",
   "execution_count": 5,
   "metadata": {},
   "outputs": [
    {
     "data": {
      "text/plain": [
       "(7639767, 54)"
      ]
     },
     "execution_count": 5,
     "metadata": {},
     "output_type": "execute_result"
    }
   ],
   "source": [
    "stack=np.dstack((landsat1, landsat1_dog))\n",
    "depth=stack.shape[2]\n",
    "edge=3\n",
    "buff=floor(edge/2)\n",
    "stack_window=skimage.util.view_as_windows(np.pad(stack,pad_width=((buff,buff), (buff,buff),(0,0)), mode ='minimum'), window_shape=(edge,edge,depth), step=1) \n",
    "stack_window.shape #3 by 3 moving window around each pixel\n",
    "\n",
    "stack_flat=stack_window.reshape(-1,edge*edge*depth) ; stack_flat.shape #Flatten to rows"
   ]
  },
  {
   "cell_type": "code",
   "execution_count": 6,
   "metadata": {
    "collapsed": true
   },
   "outputs": [],
   "source": [
    "#make labels\n",
    "building= skimage.io.imread('/Users/yamaoka/Dropbox/Insight/landuse/labels/austin_tx_buildings_labels_allt.TIF', as_grey=True) #Load Buildings\n",
    "landuse = skimage.io.imread('/Users/yamaoka/Dropbox/Insight/landuse/labels/austin_tx_landuse_labels_noallt.TIF', as_grey=True) #Load Landuse tmp\n"
   ]
  },
  {
   "cell_type": "code",
   "execution_count": 7,
   "metadata": {
    "collapsed": true
   },
   "outputs": [],
   "source": [
    "#viewer = ImageViewer(landuse)\n",
    "#viewer.show()\n"
   ]
  },
  {
   "cell_type": "code",
   "execution_count": 8,
   "metadata": {},
   "outputs": [
    {
     "name": "stdout",
     "output_type": "stream",
     "text": [
      "55537\n"
     ]
    }
   ],
   "source": [
    "ll = landuse.flatten() \n",
    "lb = building.flatten() \n",
    "\n",
    "print(lb[0])"
   ]
  },
  {
   "cell_type": "code",
   "execution_count": 9,
   "metadata": {
    "collapsed": true
   },
   "outputs": [],
   "source": [
    "nodata = 55537\n",
    "\n",
    "ll[ll != nodata] = 1.\n",
    "lb[lb != nodata] = 2.\n",
    "\n",
    "ll[ll == nodata] = 0.\n",
    "lb[lb == nodata] = 0.\n",
    "\n",
    "labels = ll+lb\n",
    "labels[labels==3] = 2. #i know this is stupid need to fix later"
   ]
  },
  {
   "cell_type": "code",
   "execution_count": 12,
   "metadata": {},
   "outputs": [
    {
     "name": "stdout",
     "output_type": "stream",
     "text": [
      "(2424080,)\n"
     ]
    }
   ],
   "source": [
    "print(labels[labels!=0].shape)"
   ]
  },
  {
   "cell_type": "code",
   "execution_count": 13,
   "metadata": {
    "collapsed": true
   },
   "outputs": [],
   "source": [
    "#test_reshape=labels.reshape(landuse.shape)\n",
    "#print(test_reshape.shape)\n",
    "#labels_predicted_andknown[labelsfixed>0]=labelsfixed[labelsfixed>0]\n",
    "#finalcolors=np.array([[0,0,0], #0 unlabeled\n",
    "#                     [32,66,239], #1 water\n",
    "#                     [0,102,0], #2 vegitation\n",
    "#                     [102,51,0], #3 buildings\n",
    "#                     [0,0,0], #4 rail\n",
    "#                     [128,128,128]],dtype=np.int64)#5 road\n",
    "#img = finalcolors[test_reshape]\n",
    "#outpath = \"out/path/here\"\n",
    "#skimage.io.imsave(\"rf_predictions.png\", labels_predicted)\n",
    "#skimage.io.imsave(\"/Users/yamaoka/Desktop/test.png\", img)"
   ]
  },
  {
   "cell_type": "code",
   "execution_count": 14,
   "metadata": {
    "collapsed": true
   },
   "outputs": [],
   "source": [
    "x_tmp=stack_flat\n",
    "y_tmp=labels\n",
    "\n",
    "x_tmp = stack_flat[labels>0,...]\n",
    "y_tmp = labels[labels>0]\n",
    "\n",
    "y_tmp = y_tmp.astype(int)\n",
    "\n",
    "from sklearn.model_selection import train_test_split\n",
    "x_train, x_test, y_train, y_test = train_test_split(x_tmp, y_tmp, test_size=0.10, random_state=0)\n"
   ]
  },
  {
   "cell_type": "code",
   "execution_count": 16,
   "metadata": {
    "collapsed": true
   },
   "outputs": [],
   "source": [
    "import pickle\n",
    "filename='/Users/yamaoka/Dropbox/Insight/landuse/models/rf100_first.sav'\n",
    "rf=pickle.load(open(filename, 'rb'))"
   ]
  },
  {
   "cell_type": "markdown",
   "metadata": {},
   "source": [
    "import pickle\n"
   ]
  },
  {
   "cell_type": "code",
   "execution_count": 17,
   "metadata": {},
   "outputs": [
    {
     "name": "stderr",
     "output_type": "stream",
     "text": [
      "[Parallel(n_jobs=2)]: Done  46 tasks      | elapsed:    4.7s\n",
      "[Parallel(n_jobs=2)]: Done 100 out of 100 | elapsed:   10.3s finished\n"
     ]
    },
    {
     "data": {
      "text/plain": [
       "0.41362908814890598"
      ]
     },
     "execution_count": 17,
     "metadata": {},
     "output_type": "execute_result"
    }
   ],
   "source": [
    "rf.score(x_test,y_test)"
   ]
  },
  {
   "cell_type": "code",
   "execution_count": 19,
   "metadata": {},
   "outputs": [
    {
     "name": "stderr",
     "output_type": "stream",
     "text": [
      "[Parallel(n_jobs=2)]: Done  46 tasks      | elapsed:  1.1min\n",
      "[Parallel(n_jobs=2)]: Done 100 out of 100 | elapsed:  2.4min finished\n",
      "[Parallel(n_jobs=2)]: Done  46 tasks      | elapsed:    0.5s\n",
      "[Parallel(n_jobs=2)]: Done 100 out of 100 | elapsed:    1.0s finished\n",
      "[Parallel(n_jobs=2)]: Done  46 tasks      | elapsed:  1.1min\n",
      "[Parallel(n_jobs=2)]: Done 100 out of 100 | elapsed:  2.5min finished\n",
      "[Parallel(n_jobs=2)]: Done  46 tasks      | elapsed:    0.4s\n",
      "[Parallel(n_jobs=2)]: Done 100 out of 100 | elapsed:    1.0s finished\n",
      "[Parallel(n_jobs=2)]: Done  46 tasks      | elapsed:  1.1min\n",
      "[Parallel(n_jobs=2)]: Done 100 out of 100 | elapsed:  2.4min finished\n",
      "[Parallel(n_jobs=2)]: Done  46 tasks      | elapsed:    0.4s\n",
      "[Parallel(n_jobs=2)]: Done 100 out of 100 | elapsed:    1.0s finished\n",
      "[Parallel(n_jobs=2)]: Done  46 tasks      | elapsed:  1.1min\n",
      "[Parallel(n_jobs=2)]: Done 100 out of 100 | elapsed:  2.3min finished\n",
      "[Parallel(n_jobs=2)]: Done  46 tasks      | elapsed:    0.5s\n",
      "[Parallel(n_jobs=2)]: Done 100 out of 100 | elapsed:    1.1s finished\n",
      "[Parallel(n_jobs=2)]: Done  46 tasks      | elapsed:  1.1min\n",
      "[Parallel(n_jobs=2)]: Done 100 out of 100 | elapsed:  2.4min finished\n",
      "[Parallel(n_jobs=2)]: Done  46 tasks      | elapsed:    0.4s\n",
      "[Parallel(n_jobs=2)]: Done 100 out of 100 | elapsed:    1.0s finished\n"
     ]
    }
   ],
   "source": [
    "from sklearn.model_selection import cross_val_score\n",
    "scores = cross_val_score(rf, x_test, y_test, cv=5)"
   ]
  },
  {
   "cell_type": "code",
   "execution_count": 20,
   "metadata": {},
   "outputs": [
    {
     "name": "stdout",
     "output_type": "stream",
     "text": [
      "[ 0.78187781  0.77773194  0.77979456  0.78125451  0.78086261]\n"
     ]
    }
   ],
   "source": [
    "print(scores)\n"
   ]
  },
  {
   "cell_type": "code",
   "execution_count": 109,
   "metadata": {},
   "outputs": [
    {
     "name": "stderr",
     "output_type": "stream",
     "text": [
      "/Users/yamaoka/anaconda/envs/py35/lib/python3.5/site-packages/skimage/util/dtype.py:110: UserWarning: Possible precision loss when converting from float64 to uint16\n",
      "  \"%s to %s\" % (dtypeobj_in, dtypeobj))\n"
     ]
    }
   ],
   "source": [
    "labels_predicted=predictions.reshape(labelsfixed.shape)\n",
    "#labels_predicted_andknown[labelsfixed>0]=labelsfixed[labelsfixed>0]\n",
    "#inalcolors=np.array([[0,0,0], #0 unlabeled\n",
    "#                     [32,66,239], #1 water\n",
    "#                     [0,102,0], #2 vegitation\n",
    "#                     [102,51,0], #3 buildings\n",
    "#                     [0,0,0], #4 rail\n",
    "#                     [128,128,128]])#5 road\n",
    "#outpath = \"out/path/here\"\n",
    "#skimage.io.imsave(\"rf_predictions.png\", labels_predicted)\n",
    "#skimage.io.imsave(\"rf_predictions_andknown.png\", finalcolors[labels_predicted_andknown])testcolors=np.array([0,0.8,0.2]) \n",
    "skimage.io.imsave(\"rf_predictions.png\", testcolors[labels_predicted],)\n",
    "skimage.io.imsave(\"dog.png\", landsat1_dog)"
   ]
  }
 ],
 "metadata": {
  "kernelspec": {
   "display_name": "Python 3",
   "language": "python",
   "name": "python3"
  },
  "language_info": {
   "codemirror_mode": {
    "name": "ipython",
    "version": 3
   },
   "file_extension": ".py",
   "mimetype": "text/x-python",
   "name": "python",
   "nbconvert_exporter": "python",
   "pygments_lexer": "ipython3",
   "version": "3.5.3"
  }
 },
 "nbformat": 4,
 "nbformat_minor": 2
}
